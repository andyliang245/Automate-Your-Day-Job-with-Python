{
 "cells": [
  {
   "cell_type": "code",
   "execution_count": 1,
   "id": "surface-incident",
   "metadata": {},
   "outputs": [],
   "source": [
    "import csv\n",
    "from pathlib import Path"
   ]
  },
  {
   "cell_type": "code",
   "execution_count": 2,
   "id": "weekly-roots",
   "metadata": {},
   "outputs": [],
   "source": [
    "menu_path = Path('Resources/menu_data.csv')\n",
    "sales_path = Path('Resources/sales_data.csv')"
   ]
  },
  {
   "cell_type": "code",
   "execution_count": 3,
   "id": "classified-fence",
   "metadata": {},
   "outputs": [],
   "source": [
    "menu = []\n",
    "sales = []\n",
    "report ={}\n",
    "row_count = 0"
   ]
  },
  {
   "cell_type": "code",
   "execution_count": null,
   "id": "brown-alaska",
   "metadata": {},
   "outputs": [],
   "source": [
    "with open(menu_path, 'r') as csvfile:\n",
    "    csv_reader = csv.reader(csvfile, delimiter = ',')\n",
    "    header = next(csv_reader)\n",
    "    \n",
    "    for row in csv_reader:\n",
    "        menu.append(row)"
   ]
  },
  {
   "cell_type": "code",
   "execution_count": null,
   "id": "international-stand",
   "metadata": {},
   "outputs": [],
   "source": [
    "with open(sales_path, 'r') as csvfile:\n",
    "    csv_reader = csv.reader(csvfile, delimiter = ',')\n",
    "    header = next(csv_reader)\n",
    "    \n",
    "    for row in csv_reader:\n",
    "        sales.append(row)"
   ]
  },
  {
   "cell_type": "code",
   "execution_count": null,
   "id": "informed-element",
   "metadata": {},
   "outputs": [],
   "source": [
    "for sales_row in sales:\n",
    "    \n",
    "    sales_item = sales_row[4] \n",
    "    quantity = sales_row[3]\n",
    "\n",
    "    if sales_item not in report:\n",
    "        report[sales_item] = {\"01-count\": 0, \"02-revenue\": 0, \"03-cogs\": 0, \"04-profit\": 0}\n",
    "    else:\n",
    "        continue"
   ]
  },
  {
   "cell_type": "code",
   "execution_count": null,
   "id": "gross-discovery",
   "metadata": {},
   "outputs": [],
   "source": [
    "for sales_row in sales:\n",
    "    \n",
    "    sales_item = sales_row[4]\n",
    "    quantity = sales_row[3]\n",
    "    \n",
    "    if sales_item in report:\n",
    "        report[sales_item][\"01-count\"] += int(quantity)"
   ]
  },
  {
   "cell_type": "code",
   "execution_count": null,
   "id": "leading-cooler",
   "metadata": {},
   "outputs": [],
   "source": [
    "for sales_row in sales:\n",
    "    \n",
    "    sales_item = sales_row[4]\n",
    "    quantity = sales_row[3]\n",
    "    \n",
    "    for menu_row in menu:\n",
    "        menu_item = menu_row[0]\n",
    "        menu_price = menu_row[3]\n",
    "        menu_cost = menu_row[4]\n",
    "        \n",
    "        if sales_item == menu_item:\n",
    "            report[menu_item][\"02-revenue\"] += (int(menu_price) * int(quantity))\n",
    "            report[menu_item][\"03-cogs\"] += (int(menu_cost) * int(quantity))\n",
    "        elif sales_item != menu_item:\n",
    "            continue"
   ]
  },
  {
   "cell_type": "code",
   "execution_count": null,
   "id": "spare-sweet",
   "metadata": {},
   "outputs": [],
   "source": [
    "for item, valuedict in report.items():\n",
    "     \n",
    "    for key in valuedict:\n",
    "        \n",
    "        cogs = report[item][\"03-cogs\"]\n",
    "        revenue = report[item][\"02-revenue\"]\n",
    "        \n",
    "        if key == \"04-profit\":\n",
    "            report[item][key] = revenue - cogs\n",
    "        else:\n",
    "            continue "
   ]
  },
  {
   "cell_type": "code",
   "execution_count": null,
   "id": "statewide-acrylic",
   "metadata": {},
   "outputs": [],
   "source": [
    "output_path = Path(\"PyRamen.txt\")\n",
    "\n",
    "with open(output_path, 'w') as file:\n",
    "    file.write(\"This is the financial report for PyRamen.\\n\")\n",
    "    for key in report:\n",
    "        file.write(f\"{key} {report[key]} \\n\")"
   ]
  },
  {
   "cell_type": "code",
   "execution_count": null,
   "id": "disturbed-prototype",
   "metadata": {},
   "outputs": [],
   "source": []
  },
  {
   "cell_type": "code",
   "execution_count": null,
   "id": "formed-citizen",
   "metadata": {},
   "outputs": [],
   "source": []
  },
  {
   "cell_type": "code",
   "execution_count": null,
   "id": "upset-population",
   "metadata": {},
   "outputs": [],
   "source": []
  },
  {
   "cell_type": "code",
   "execution_count": null,
   "id": "dominant-maryland",
   "metadata": {},
   "outputs": [],
   "source": []
  },
  {
   "cell_type": "code",
   "execution_count": 4,
   "id": "breeding-inventory",
   "metadata": {},
   "outputs": [],
   "source": [
    "with open(menu_path) as menu_data:\n",
    "    menu_reader = csv.reader(menu_data)\n",
    "    menu_header = next(menu_reader)\n",
    "    \n",
    "    for row in menu_reader:\n",
    "        menu += [row[0:5]]\n",
    "        \n",
    "with open(sales_path) as sales_data:\n",
    "    sales_reader = csv.reader(sales_data)\n",
    "    sales_header = next(sales_reader)\n",
    "    \n",
    "    for row in sales_reader:\n",
    "        sales += [row[0:5]]"
   ]
  },
  {
   "cell_type": "code",
   "execution_count": 5,
   "id": "brown-breath",
   "metadata": {},
   "outputs": [],
   "source": [
    "for sales_row in sales:\n",
    "    \n",
    "    sales_item = sales_row[4] \n",
    "    quantity = sales_row[3]\n",
    "\n",
    "    if sales_item not in report:\n",
    "        report[sales_item] = {\"01-count\": 0, \"02-revenue\": 0, \"03-cogs\": 0, \"04-profit\": 0}\n",
    "    else:\n",
    "        continue"
   ]
  },
  {
   "cell_type": "code",
   "execution_count": 7,
   "id": "referenced-progress",
   "metadata": {},
   "outputs": [
    {
     "data": {
      "text/plain": [
       "{'spicy miso ramen': {'01-count': 0,\n",
       "  '02-revenue': 0,\n",
       "  '03-cogs': 0,\n",
       "  '04-profit': 0},\n",
       " 'tori paitan ramen': {'01-count': 0,\n",
       "  '02-revenue': 0,\n",
       "  '03-cogs': 0,\n",
       "  '04-profit': 0},\n",
       " 'truffle butter ramen': {'01-count': 0,\n",
       "  '02-revenue': 0,\n",
       "  '03-cogs': 0,\n",
       "  '04-profit': 0},\n",
       " 'tonkotsu ramen': {'01-count': 0,\n",
       "  '02-revenue': 0,\n",
       "  '03-cogs': 0,\n",
       "  '04-profit': 0},\n",
       " 'vegetarian spicy miso': {'01-count': 0,\n",
       "  '02-revenue': 0,\n",
       "  '03-cogs': 0,\n",
       "  '04-profit': 0},\n",
       " 'shio ramen': {'01-count': 0, '02-revenue': 0, '03-cogs': 0, '04-profit': 0},\n",
       " 'miso crab ramen': {'01-count': 0,\n",
       "  '02-revenue': 0,\n",
       "  '03-cogs': 0,\n",
       "  '04-profit': 0},\n",
       " 'nagomi shoyu': {'01-count': 0,\n",
       "  '02-revenue': 0,\n",
       "  '03-cogs': 0,\n",
       "  '04-profit': 0},\n",
       " 'soft-shell miso crab ramen': {'01-count': 0,\n",
       "  '02-revenue': 0,\n",
       "  '03-cogs': 0,\n",
       "  '04-profit': 0},\n",
       " 'burnt garlic tonkotsu ramen': {'01-count': 0,\n",
       "  '02-revenue': 0,\n",
       "  '03-cogs': 0,\n",
       "  '04-profit': 0},\n",
       " 'vegetarian curry + king trumpet mushroom ramen': {'01-count': 0,\n",
       "  '02-revenue': 0,\n",
       "  '03-cogs': 0,\n",
       "  '04-profit': 0}}"
      ]
     },
     "execution_count": 7,
     "metadata": {},
     "output_type": "execute_result"
    }
   ],
   "source": [
    "report"
   ]
  },
  {
   "cell_type": "code",
   "execution_count": null,
   "id": "valued-stuff",
   "metadata": {},
   "outputs": [],
   "source": []
  },
  {
   "cell_type": "code",
   "execution_count": null,
   "id": "genuine-zambia",
   "metadata": {},
   "outputs": [],
   "source": []
  }
 ],
 "metadata": {
  "kernelspec": {
   "display_name": "Python 3",
   "language": "python",
   "name": "python3"
  },
  "language_info": {
   "codemirror_mode": {
    "name": "ipython",
    "version": 3
   },
   "file_extension": ".py",
   "mimetype": "text/x-python",
   "name": "python",
   "nbconvert_exporter": "python",
   "pygments_lexer": "ipython3",
   "version": "3.8.5"
  }
 },
 "nbformat": 4,
 "nbformat_minor": 5
}

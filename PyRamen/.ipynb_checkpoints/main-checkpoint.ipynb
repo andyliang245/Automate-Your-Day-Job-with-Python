{
 "cells": [
  {
   "cell_type": "code",
   "execution_count": 1,
   "id": "secret-retro",
   "metadata": {},
   "outputs": [],
   "source": [
    "import csv\n",
    "from pathlib import Path"
   ]
  },
  {
   "cell_type": "code",
   "execution_count": 2,
   "id": "sapphire-rapid",
   "metadata": {},
   "outputs": [],
   "source": [
    "menu_path = Path('Resources/menu_data.csv')\n",
    "sales_path = Path('Resources/sales_data.csv')\n",
    "output_path = Path('ramen_report.txt')"
   ]
  },
  {
   "cell_type": "code",
   "execution_count": 3,
   "id": "signed-honey",
   "metadata": {},
   "outputs": [],
   "source": [
    "menu = []\n",
    "sales = []\n",
    "report ={}\n",
    "row_count = 0"
   ]
  },
  {
   "cell_type": "code",
   "execution_count": 4,
   "id": "wired-lunch",
   "metadata": {},
   "outputs": [],
   "source": [
    "with open(menu_path) as menu_data:\n",
    "    menu_reader = csv.reader(menu_data)\n",
    "    menu_header = next(menu_reader)\n",
    "    \n",
    "    for row in menu_reader:\n",
    "        menu.append(row)\n",
    "        \n",
    "with open(sales_path) as sales_data:\n",
    "    sales_reader = csv.reader(sales_data)\n",
    "    sales_header = next(sales_reader)\n",
    "    \n",
    "    for row in sales_reader:\n",
    "        sales.append(row)"
   ]
  },
  {
   "cell_type": "code",
   "execution_count": 5,
   "id": "registered-weekend",
   "metadata": {},
   "outputs": [],
   "source": [
    "for sales_row in sales:\n",
    "    sales_item = sales_row[4] \n",
    "    qty = sales_row[3]   \n",
    "    \n",
    "    if sales_item not in report:\n",
    "        report[sales_item] = {\n",
    "            'Ramen Sold': 0, \n",
    "            'Revenue': 0, \n",
    "            'COGS': 0, \n",
    "            'Profit': 0,\n",
    "        }\n",
    "        \n",
    "    if sales_item in report:\n",
    "        report[sales_item]['Ramen Sold'] += int(qty)\n",
    "        \n",
    "    for menu_row in menu:\n",
    "        menu_item = menu_row[0]\n",
    "        px = menu_row[3]\n",
    "        cost = menu_row[4]\n",
    "    \n",
    "        if sales_item == menu_item:\n",
    "            report[menu_item]['Revenue'] += (int(px) * int(qty))\n",
    "            report[menu_item]['COGS'] += (int(cost) * int(qty))   \n"
   ]
  },
  {
   "cell_type": "code",
   "execution_count": 6,
   "id": "persistent-diploma",
   "metadata": {},
   "outputs": [],
   "source": [
    "for item, value in report.items():\n",
    "     \n",
    "    for key in value:\n",
    "        \n",
    "        cogs = report[item]['COGS']\n",
    "        revenue = report[item]['Revenue']\n",
    "        \n",
    "        if key == 'Profit':\n",
    "            report[item][key] = revenue - cogs"
   ]
  },
  {
   "cell_type": "code",
   "execution_count": 7,
   "id": "considerable-wells",
   "metadata": {},
   "outputs": [
    {
     "name": "stdout",
     "output_type": "stream",
     "text": [
      "Ichiban Ramen Report:\n",
      "-----------------------------------------------------\n",
      "spicy miso ramen {'Ramen Sold': 9238, 'Revenue': 110856, 'COGS': 46190, 'Profit': 64666}\n",
      "tori paitan ramen {'Ramen Sold': 9156, 'Revenue': 119028, 'COGS': 54936, 'Profit': 64092}\n",
      "truffle butter ramen {'Ramen Sold': 8982, 'Revenue': 125748, 'COGS': 62874, 'Profit': 62874}\n",
      "tonkotsu ramen {'Ramen Sold': 9288, 'Revenue': 120744, 'COGS': 55728, 'Profit': 65016}\n",
      "vegetarian spicy miso {'Ramen Sold': 9216, 'Revenue': 110592, 'COGS': 46080, 'Profit': 64512}\n",
      "shio ramen {'Ramen Sold': 9180, 'Revenue': 100980, 'COGS': 45900, 'Profit': 55080}\n",
      "miso crab ramen {'Ramen Sold': 8890, 'Revenue': 106680, 'COGS': 53340, 'Profit': 53340}\n",
      "nagomi shoyu {'Ramen Sold': 9132, 'Revenue': 100452, 'COGS': 45660, 'Profit': 54792}\n",
      "soft-shell miso crab ramen {'Ramen Sold': 9130, 'Revenue': 127820, 'COGS': 63910, 'Profit': 63910}\n",
      "burnt garlic tonkotsu ramen {'Ramen Sold': 9070, 'Revenue': 126980, 'COGS': 54420, 'Profit': 72560}\n",
      "vegetarian curry + king trumpet mushroom ramen {'Ramen Sold': 8824, 'Revenue': 114712, 'COGS': 61768, 'Profit': 52944}\n"
     ]
    }
   ],
   "source": [
    "print('Ichiban Ramen Report:')\n",
    "print('-----------------------------------------------------')\n",
    "for key in report:\n",
    "    print(f'{key} {report[key]}')"
   ]
  },
  {
   "cell_type": "code",
   "execution_count": 8,
   "id": "annoying-police",
   "metadata": {},
   "outputs": [],
   "source": [
    "with open(output_path, 'w') as file:\n",
    "    file.write('Ichiban Ramen Report:\\n')\n",
    "    file.write('-----------------------------------------------------\\n')\n",
    "    for key in report:\n",
    "        file.write(f'{key} {report[key]} \\n')"
   ]
  },
  {
   "cell_type": "code",
   "execution_count": null,
   "id": "younger-thing",
   "metadata": {},
   "outputs": [],
   "source": []
  },
  {
   "cell_type": "code",
   "execution_count": null,
   "id": "missing-alberta",
   "metadata": {},
   "outputs": [],
   "source": []
  }
 ],
 "metadata": {
  "kernelspec": {
   "display_name": "Python 3",
   "language": "python",
   "name": "python3"
  },
  "language_info": {
   "codemirror_mode": {
    "name": "ipython",
    "version": 3
   },
   "file_extension": ".py",
   "mimetype": "text/x-python",
   "name": "python",
   "nbconvert_exporter": "python",
   "pygments_lexer": "ipython3",
   "version": "3.8.5"
  }
 },
 "nbformat": 4,
 "nbformat_minor": 5
}

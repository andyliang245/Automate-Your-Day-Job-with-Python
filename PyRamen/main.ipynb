{
 "cells": [
  {
   "cell_type": "code",
   "execution_count": null,
   "id": "advanced-membership",
   "metadata": {},
   "outputs": [],
   "source": [
    "import csv\n",
    "from pathlib import Path"
   ]
  },
  {
   "cell_type": "code",
   "execution_count": 2,
   "id": "dense-parliament",
   "metadata": {},
   "outputs": [],
   "source": [
    "menu_path = Path('Resources/menu_data.csv')\n",
    "sales_path = Path('Resources/sales_data.csv')\n",
    "output_path = Path('ramen_report.txt')"
   ]
  },
  {
   "cell_type": "code",
   "execution_count": 3,
   "id": "aggregate-chorus",
   "metadata": {},
   "outputs": [],
   "source": [
    "menu = []\n",
    "sales = []\n",
    "report ={}\n",
    "row_count = 0"
   ]
  },
  {
   "cell_type": "code",
   "execution_count": 4,
   "id": "structural-exhibition",
   "metadata": {},
   "outputs": [],
   "source": [
    "with open(menu_path) as menu_data:\n",
    "    menu_reader = csv.reader(menu_data)\n",
    "    menu_header = next(menu_reader)\n",
    "    \n",
    "    for row in menu_reader:\n",
    "        menu.append(row)\n",
    "        \n",
    "with open(sales_path) as sales_data:\n",
    "    sales_reader = csv.reader(sales_data)\n",
    "    sales_header = next(sales_reader)\n",
    "    \n",
    "    for row in sales_reader:\n",
    "        sales.append(row)"
   ]
  },
  {
   "cell_type": "code",
   "execution_count": 5,
   "id": "together-validity",
   "metadata": {},
   "outputs": [],
   "source": [
    "for sales_row in sales:\n",
    "    sales_item = sales_row[4] \n",
    "    quantity = sales_row[3]   \n",
    "    \n",
    "    if sales_item not in report:\n",
    "        report[sales_item] = {'01-count': 0, '02-revenue': 0, '03-cogs': 0, '04-profit': 0}\n",
    "        \n",
    "    if sales_item in report:\n",
    "        report[sales_item]['01-count'] += int(quantity)\n",
    "        \n",
    "    for menu_row in menu:\n",
    "        menu_item = menu_row[0]\n",
    "        menu_price = menu_row[3]\n",
    "        menu_cost = menu_row[4]\n",
    "        \n",
    "        if sales_item == menu_item:\n",
    "            report[menu_item]['02-revenue'] += (int(menu_price) * int(quantity))\n",
    "            report[menu_item]['03-cogs'] += (int(menu_cost) * int(quantity))"
   ]
  },
  {
   "cell_type": "code",
   "execution_count": 6,
   "id": "quiet-copper",
   "metadata": {},
   "outputs": [],
   "source": [
    "for item, valuedict in report.items():\n",
    "     \n",
    "    for key in valuedict:\n",
    "        \n",
    "        cogs = report[item]['03-cogs']\n",
    "        revenue = report[item]['02-revenue']\n",
    "        \n",
    "        if key == '04-profit':\n",
    "            report[item][key] = revenue - cogs"
   ]
  },
  {
   "cell_type": "code",
   "execution_count": 7,
   "id": "standing-compensation",
   "metadata": {},
   "outputs": [
    {
     "name": "stdout",
     "output_type": "stream",
     "text": [
      "Financial Report for Ichiban Ramen:\n",
      "-----------------------------------------------------\n",
      "spicy miso ramen {'01-count': 9238, '02-revenue': 110856, '03-cogs': 46190, '04-profit': 64666}\n",
      "tori paitan ramen {'01-count': 9156, '02-revenue': 119028, '03-cogs': 54936, '04-profit': 64092}\n",
      "truffle butter ramen {'01-count': 8982, '02-revenue': 125748, '03-cogs': 62874, '04-profit': 62874}\n",
      "tonkotsu ramen {'01-count': 9288, '02-revenue': 120744, '03-cogs': 55728, '04-profit': 65016}\n",
      "vegetarian spicy miso {'01-count': 9216, '02-revenue': 110592, '03-cogs': 46080, '04-profit': 64512}\n",
      "shio ramen {'01-count': 9180, '02-revenue': 100980, '03-cogs': 45900, '04-profit': 55080}\n",
      "miso crab ramen {'01-count': 8890, '02-revenue': 106680, '03-cogs': 53340, '04-profit': 53340}\n",
      "nagomi shoyu {'01-count': 9132, '02-revenue': 100452, '03-cogs': 45660, '04-profit': 54792}\n",
      "soft-shell miso crab ramen {'01-count': 9130, '02-revenue': 127820, '03-cogs': 63910, '04-profit': 63910}\n",
      "burnt garlic tonkotsu ramen {'01-count': 9070, '02-revenue': 126980, '03-cogs': 54420, '04-profit': 72560}\n",
      "vegetarian curry + king trumpet mushroom ramen {'01-count': 8824, '02-revenue': 114712, '03-cogs': 61768, '04-profit': 52944}\n"
     ]
    }
   ],
   "source": [
    "print('Financial Report for Ichiban Ramen:')\n",
    "print('-----------------------------------------------------')\n",
    "for key in report:\n",
    "    print(f'{key} {report[key]}')"
   ]
  },
  {
   "cell_type": "code",
   "execution_count": 8,
   "id": "dangerous-logistics",
   "metadata": {},
   "outputs": [],
   "source": [
    "with open(output_path, 'w') as file:\n",
    "    file.write('Financial report for Ichiban Ramen:\\n')\n",
    "    file.write('-----------------------------------------------------\\n')\n",
    "    for key in report:\n",
    "        file.write(f'{key} {report[key]} \\n')"
   ]
  },
  {
   "cell_type": "code",
   "execution_count": null,
   "id": "preliminary-fifty",
   "metadata": {},
   "outputs": [],
   "source": []
  }
 ],
 "metadata": {
  "kernelspec": {
   "display_name": "Python 3",
   "language": "python",
   "name": "python3"
  },
  "language_info": {
   "codemirror_mode": {
    "name": "ipython",
    "version": 3
   },
   "file_extension": ".py",
   "mimetype": "text/x-python",
   "name": "python",
   "nbconvert_exporter": "python",
   "pygments_lexer": "ipython3",
   "version": "3.8.5"
  }
 },
 "nbformat": 4,
 "nbformat_minor": 5
}

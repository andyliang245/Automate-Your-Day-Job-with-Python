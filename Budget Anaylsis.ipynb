{
 "cells": [
  {
   "cell_type": "code",
   "execution_count": null,
   "id": "current-sheep",
   "metadata": {},
   "outputs": [],
   "source": [
    "import csv\n",
    "from pathlib import Path"
   ]
  },
  {
   "cell_type": "code",
   "execution_count": 2,
   "id": "visible-laundry",
   "metadata": {},
   "outputs": [],
   "source": [
    "load_path = Path('PyBank/Resources/budget_data.csv')\n",
    "output_path = Path('budget_analysis.txt')"
   ]
  },
  {
   "cell_type": "code",
   "execution_count": null,
   "id": "favorite-practice",
   "metadata": {},
   "outputs": [],
   "source": [
    "total_months = 0\n",
    "month_of_change = []\n",
    "net_change_list = [] \n",
    "greatest_increase = ['', 0] \n",
    "greatest_decrease = ['', 9999999999999999]\n",
    "total_net = 0"
   ]
  }
 ],
 "metadata": {
  "kernelspec": {
   "display_name": "Python 3",
   "language": "python",
   "name": "python3"
  },
  "language_info": {
   "codemirror_mode": {
    "name": "ipython",
    "version": 3
   },
   "file_extension": ".py",
   "mimetype": "text/x-python",
   "name": "python",
   "nbconvert_exporter": "python",
   "pygments_lexer": "ipython3",
   "version": "3.8.5"
  }
 },
 "nbformat": 4,
 "nbformat_minor": 5
}

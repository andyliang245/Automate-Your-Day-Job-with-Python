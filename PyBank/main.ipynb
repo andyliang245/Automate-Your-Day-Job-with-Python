{
 "cells": [
  {
   "cell_type": "code",
   "execution_count": 1,
   "id": "consistent-panel",
   "metadata": {},
   "outputs": [],
   "source": [
    "import csv\n",
    "from pathlib import Path"
   ]
  },
  {
   "cell_type": "code",
   "execution_count": 2,
   "id": "congressional-patient",
   "metadata": {},
   "outputs": [],
   "source": [
    "load_path = Path('Resources/budget_data.csv')\n",
    "output_path = Path('budget_analysis.txt')"
   ]
  },
  {
   "cell_type": "code",
   "execution_count": 3,
   "id": "hazardous-jordan",
   "metadata": {},
   "outputs": [],
   "source": [
    "total_months = 0\n",
    "month_of_change = []\n",
    "net_change_amount_list = [] \n",
    "greatest_increase_amount = ['', 0] \n",
    "greatest_decrease_amount = ['', 99999999]\n",
    "total_net_amount = 0"
   ]
  },
  {
   "cell_type": "code",
   "execution_count": 4,
   "id": "representative-airfare",
   "metadata": {},
   "outputs": [],
   "source": [
    "with open(load_path) as budget_data:\n",
    "    reader = csv.reader(budget_data)\n",
    "    header = next(reader)\n",
    "\n",
    "    row_one = next(reader)\n",
    "    total_months += 1\n",
    "    total_net_amount += int(row_one[1])\n",
    "    prev_net_amount = int(row_one[1]) \n",
    "    \n",
    "    for row in reader:\n",
    "        total_months += 1\n",
    "        total_net_amount += int(row[1])\n",
    "        \n",
    "        net_amount_change = int(row[1]) - prev_net_amount\n",
    "        prev_net_amount = int(row[1]) \n",
    "        net_change_amount_list += [net_amount_change]\n",
    "        month_of_change += [row[0]] \n",
    "        \n",
    "        if net_amount_change > greatest_increase_amount[1]:\n",
    "            greatest_increase_amount[0] = row[0] \n",
    "            greatest_increase_amount[1] = net_amount_change\n",
    "            \n",
    "        if net_amount_change < greatest_decrease_amount[1]:\n",
    "            greatest_decrease_amount[0] = row[0]\n",
    "            greatest_decrease_amount[1] = net_amount_change\n",
    "\n",
    "average_change = round(sum(net_change_amount_list) / len(net_change_amount_list),2)"
   ]
  },
  {
   "cell_type": "code",
   "execution_count": 5,
   "id": "incorporate-board",
   "metadata": {},
   "outputs": [
    {
     "name": "stdout",
     "output_type": "stream",
     "text": [
      "Financial Analysis\n",
      "-----------------------------------------------------\n",
      "Total Months: 86 months\n",
      "Total Profit/Loss: $ 38,382,578\n",
      "Average Change in Budget: $ -2,315.12\n",
      "Greatest Increase in Profits: on Feb-2012 at $ 1,926,159\n",
      "Greatest Decrease in Profits: on Sep-2013 at $ -2,196,167\n"
     ]
    }
   ],
   "source": [
    "print('Financial Analysis')\n",
    "print('-----------------------------------------------------')\n",
    "print(f'Total Months: {total_months} months')\n",
    "print(f'Total Profit/Loss: $ {f\"{total_net_amount:,}\"}')\n",
    "print(f'Average Change in Budget: $ {f\"{average_change:,}\"}')\n",
    "print(f'Greatest Increase in Profits: on {greatest_increase_amount[0]} at $ {f\"{greatest_increase_amount[1]:,}\"}')\n",
    "print(f'Greatest Decrease in Profits: on {greatest_decrease_amount[0]} at $ {f\"{greatest_decrease_amount[1]:,}\"}')"
   ]
  },
  {
   "cell_type": "code",
   "execution_count": 6,
   "id": "distant-advertiser",
   "metadata": {},
   "outputs": [],
   "source": [
    "with open(output_path, 'w') as file:\n",
    "    file.write(f'Financial Analysis\\n')\n",
    "    file.write(f'-----------------------------------------------------\\n')\n",
    "    file.write(f'Total Months: {total_months} months\\n')\n",
    "    file.write(f'Total Profit/Loss: $ {f\"{total_net_amount:,}\"}\\n')\n",
    "    file.write(f'Average Change in Budget: $ {f\"{average_change:,}\"}\\n')\n",
    "    file.write(f'Greatest Increase in Profits: on {greatest_increase_amount[0]} at $ {f\"{greatest_increase_amount[1]:,}\"}\\n')\n",
    "    file.write(f'Greatest Decrease in Profits: on {greatest_decrease_amount[0]} at $ {f\"{greatest_decrease_amount[1]:,}\"}\\n')"
   ]
  },
  {
   "cell_type": "code",
   "execution_count": null,
   "id": "premier-trick",
   "metadata": {},
   "outputs": [],
   "source": []
  }
 ],
 "metadata": {
  "kernelspec": {
   "display_name": "Python 3",
   "language": "python",
   "name": "python3"
  },
  "language_info": {
   "codemirror_mode": {
    "name": "ipython",
    "version": 3
   },
   "file_extension": ".py",
   "mimetype": "text/x-python",
   "name": "python",
   "nbconvert_exporter": "python",
   "pygments_lexer": "ipython3",
   "version": "3.8.5"
  }
 },
 "nbformat": 4,
 "nbformat_minor": 5
}
